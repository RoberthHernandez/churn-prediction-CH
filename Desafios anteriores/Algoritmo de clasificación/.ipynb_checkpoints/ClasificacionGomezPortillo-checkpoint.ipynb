{
 "cells": [
  {
   "cell_type": "markdown",
   "id": "8e9263b1-58b9-4852-b2c4-89252b4cb6c1",
   "metadata": {},
   "source": [
    "# Importación de librerías"
   ]
  },
  {
   "cell_type": "code",
   "execution_count": 384,
   "id": "9ff047ff-7c99-443c-8465-0534329b6b28",
   "metadata": {},
   "outputs": [],
   "source": [
    "import pandas as pd\n",
    "import numpy as np\n",
    "import matplotlib.pyplot as plt\n",
    "import seaborn as sns\n",
    "from sklearn.model_selection import train_test_split\n",
    "from sklearn.tree import DecisionTreeClassifier\n",
    "from sklearn.ensemble import RandomForestClassifier\n",
    "from sklearn.metrics import accuracy_score\n",
    "from sklearn.preprocessing import OrdinalEncoder\n",
    "from sklearn.metrics import confusion_matrix\n",
    "from sklearn.neighbors import KNeighborsClassifier\n",
    "from sklearn.model_selection import cross_val_score"
   ]
  },
  {
   "cell_type": "markdown",
   "id": "3dad54e9-9a29-436c-8f11-c761a188de99",
   "metadata": {},
   "source": [
    "# Importación del dataset"
   ]
  },
  {
   "cell_type": "code",
   "execution_count": 329,
   "id": "fd6faff2-ba8f-4968-8af9-628317598bdf",
   "metadata": {},
   "outputs": [
    {
     "data": {
      "text/html": [
       "<div>\n",
       "<style scoped>\n",
       "    .dataframe tbody tr th:only-of-type {\n",
       "        vertical-align: middle;\n",
       "    }\n",
       "\n",
       "    .dataframe tbody tr th {\n",
       "        vertical-align: top;\n",
       "    }\n",
       "\n",
       "    .dataframe thead th {\n",
       "        text-align: right;\n",
       "    }\n",
       "</style>\n",
       "<table border=\"1\" class=\"dataframe\">\n",
       "  <thead>\n",
       "    <tr style=\"text-align: right;\">\n",
       "      <th></th>\n",
       "      <th>Score</th>\n",
       "      <th>Nationality</th>\n",
       "      <th>Gender</th>\n",
       "      <th>Age</th>\n",
       "      <th>Tenure</th>\n",
       "      <th>Balance</th>\n",
       "      <th>Products</th>\n",
       "      <th>Card</th>\n",
       "      <th>Active</th>\n",
       "      <th>Salary</th>\n",
       "      <th>Exited</th>\n",
       "      <th>score_by_products</th>\n",
       "    </tr>\n",
       "    <tr>\n",
       "      <th>Row</th>\n",
       "      <th></th>\n",
       "      <th></th>\n",
       "      <th></th>\n",
       "      <th></th>\n",
       "      <th></th>\n",
       "      <th></th>\n",
       "      <th></th>\n",
       "      <th></th>\n",
       "      <th></th>\n",
       "      <th></th>\n",
       "      <th></th>\n",
       "      <th></th>\n",
       "    </tr>\n",
       "  </thead>\n",
       "  <tbody>\n",
       "    <tr>\n",
       "      <th>1</th>\n",
       "      <td>619</td>\n",
       "      <td>France</td>\n",
       "      <td>Female</td>\n",
       "      <td>42</td>\n",
       "      <td>2</td>\n",
       "      <td>0.00</td>\n",
       "      <td>1</td>\n",
       "      <td>1</td>\n",
       "      <td>1</td>\n",
       "      <td>101348.88</td>\n",
       "      <td>1</td>\n",
       "      <td>619.000000</td>\n",
       "    </tr>\n",
       "    <tr>\n",
       "      <th>2</th>\n",
       "      <td>608</td>\n",
       "      <td>Spain</td>\n",
       "      <td>Female</td>\n",
       "      <td>41</td>\n",
       "      <td>1</td>\n",
       "      <td>83807.86</td>\n",
       "      <td>1</td>\n",
       "      <td>0</td>\n",
       "      <td>1</td>\n",
       "      <td>112542.58</td>\n",
       "      <td>0</td>\n",
       "      <td>608.000000</td>\n",
       "    </tr>\n",
       "    <tr>\n",
       "      <th>3</th>\n",
       "      <td>502</td>\n",
       "      <td>France</td>\n",
       "      <td>Female</td>\n",
       "      <td>42</td>\n",
       "      <td>8</td>\n",
       "      <td>159660.80</td>\n",
       "      <td>3</td>\n",
       "      <td>1</td>\n",
       "      <td>0</td>\n",
       "      <td>113931.57</td>\n",
       "      <td>1</td>\n",
       "      <td>167.333333</td>\n",
       "    </tr>\n",
       "    <tr>\n",
       "      <th>4</th>\n",
       "      <td>699</td>\n",
       "      <td>France</td>\n",
       "      <td>Female</td>\n",
       "      <td>39</td>\n",
       "      <td>1</td>\n",
       "      <td>0.00</td>\n",
       "      <td>2</td>\n",
       "      <td>0</td>\n",
       "      <td>0</td>\n",
       "      <td>93826.63</td>\n",
       "      <td>0</td>\n",
       "      <td>349.500000</td>\n",
       "    </tr>\n",
       "    <tr>\n",
       "      <th>5</th>\n",
       "      <td>850</td>\n",
       "      <td>Spain</td>\n",
       "      <td>Female</td>\n",
       "      <td>43</td>\n",
       "      <td>2</td>\n",
       "      <td>125510.82</td>\n",
       "      <td>1</td>\n",
       "      <td>1</td>\n",
       "      <td>1</td>\n",
       "      <td>79084.10</td>\n",
       "      <td>0</td>\n",
       "      <td>850.000000</td>\n",
       "    </tr>\n",
       "  </tbody>\n",
       "</table>\n",
       "</div>"
      ],
      "text/plain": [
       "     Score Nationality  Gender  Age  Tenure    Balance  Products  Card  \\\n",
       "Row                                                                      \n",
       "1      619      France  Female   42       2       0.00         1     1   \n",
       "2      608       Spain  Female   41       1   83807.86         1     0   \n",
       "3      502      France  Female   42       8  159660.80         3     1   \n",
       "4      699      France  Female   39       1       0.00         2     0   \n",
       "5      850       Spain  Female   43       2  125510.82         1     1   \n",
       "\n",
       "     Active     Salary  Exited  score_by_products  \n",
       "Row                                                \n",
       "1         1  101348.88       1         619.000000  \n",
       "2         1  112542.58       0         608.000000  \n",
       "3         0  113931.57       1         167.333333  \n",
       "4         0   93826.63       0         349.500000  \n",
       "5         1   79084.10       0         850.000000  "
      ]
     },
     "execution_count": 329,
     "metadata": {},
     "output_type": "execute_result"
    }
   ],
   "source": [
    "churn_data_set = pd.read_csv(\"..\\Data\\Churn Prediction.csv\",delimiter = \";\",index_col=0)\n",
    "churn_data_set.drop('Surname', inplace = True, axis = 1)\n",
    "churn_data_set.drop('Id', inplace = True, axis = 1)\n",
    "\n",
    "churn_data_set['score_by_products'] = churn_data_set['Score'] / churn_data_set['Products']\n",
    "\n",
    "churn_data_set.head()"
   ]
  },
  {
   "cell_type": "code",
   "execution_count": 330,
   "id": "03be60f8-491b-4b49-9d3c-17fbbbb82222",
   "metadata": {},
   "outputs": [],
   "source": [
    "churn_data_set = pd.get_dummies(churn_data_set, columns=[\"Nationality\", \"Gender\"])\n"
   ]
  },
  {
   "cell_type": "code",
   "execution_count": 331,
   "id": "eaece18b-0384-4c47-b9ea-a8f181dc75b4",
   "metadata": {},
   "outputs": [
    {
     "data": {
      "text/html": [
       "<div>\n",
       "<style scoped>\n",
       "    .dataframe tbody tr th:only-of-type {\n",
       "        vertical-align: middle;\n",
       "    }\n",
       "\n",
       "    .dataframe tbody tr th {\n",
       "        vertical-align: top;\n",
       "    }\n",
       "\n",
       "    .dataframe thead th {\n",
       "        text-align: right;\n",
       "    }\n",
       "</style>\n",
       "<table border=\"1\" class=\"dataframe\">\n",
       "  <thead>\n",
       "    <tr style=\"text-align: right;\">\n",
       "      <th></th>\n",
       "      <th>Score</th>\n",
       "      <th>Age</th>\n",
       "      <th>Tenure</th>\n",
       "      <th>Balance</th>\n",
       "      <th>Products</th>\n",
       "      <th>Card</th>\n",
       "      <th>Active</th>\n",
       "      <th>Salary</th>\n",
       "      <th>Exited</th>\n",
       "      <th>score_by_products</th>\n",
       "      <th>Nationality_France</th>\n",
       "      <th>Nationality_Germany</th>\n",
       "      <th>Nationality_Spain</th>\n",
       "      <th>Gender_Female</th>\n",
       "      <th>Gender_Male</th>\n",
       "    </tr>\n",
       "    <tr>\n",
       "      <th>Row</th>\n",
       "      <th></th>\n",
       "      <th></th>\n",
       "      <th></th>\n",
       "      <th></th>\n",
       "      <th></th>\n",
       "      <th></th>\n",
       "      <th></th>\n",
       "      <th></th>\n",
       "      <th></th>\n",
       "      <th></th>\n",
       "      <th></th>\n",
       "      <th></th>\n",
       "      <th></th>\n",
       "      <th></th>\n",
       "      <th></th>\n",
       "    </tr>\n",
       "  </thead>\n",
       "  <tbody>\n",
       "    <tr>\n",
       "      <th>1</th>\n",
       "      <td>619</td>\n",
       "      <td>42</td>\n",
       "      <td>2</td>\n",
       "      <td>0.00</td>\n",
       "      <td>1</td>\n",
       "      <td>1</td>\n",
       "      <td>1</td>\n",
       "      <td>101348.88</td>\n",
       "      <td>1</td>\n",
       "      <td>619.000000</td>\n",
       "      <td>1</td>\n",
       "      <td>0</td>\n",
       "      <td>0</td>\n",
       "      <td>1</td>\n",
       "      <td>0</td>\n",
       "    </tr>\n",
       "    <tr>\n",
       "      <th>2</th>\n",
       "      <td>608</td>\n",
       "      <td>41</td>\n",
       "      <td>1</td>\n",
       "      <td>83807.86</td>\n",
       "      <td>1</td>\n",
       "      <td>0</td>\n",
       "      <td>1</td>\n",
       "      <td>112542.58</td>\n",
       "      <td>0</td>\n",
       "      <td>608.000000</td>\n",
       "      <td>0</td>\n",
       "      <td>0</td>\n",
       "      <td>1</td>\n",
       "      <td>1</td>\n",
       "      <td>0</td>\n",
       "    </tr>\n",
       "    <tr>\n",
       "      <th>3</th>\n",
       "      <td>502</td>\n",
       "      <td>42</td>\n",
       "      <td>8</td>\n",
       "      <td>159660.80</td>\n",
       "      <td>3</td>\n",
       "      <td>1</td>\n",
       "      <td>0</td>\n",
       "      <td>113931.57</td>\n",
       "      <td>1</td>\n",
       "      <td>167.333333</td>\n",
       "      <td>1</td>\n",
       "      <td>0</td>\n",
       "      <td>0</td>\n",
       "      <td>1</td>\n",
       "      <td>0</td>\n",
       "    </tr>\n",
       "    <tr>\n",
       "      <th>4</th>\n",
       "      <td>699</td>\n",
       "      <td>39</td>\n",
       "      <td>1</td>\n",
       "      <td>0.00</td>\n",
       "      <td>2</td>\n",
       "      <td>0</td>\n",
       "      <td>0</td>\n",
       "      <td>93826.63</td>\n",
       "      <td>0</td>\n",
       "      <td>349.500000</td>\n",
       "      <td>1</td>\n",
       "      <td>0</td>\n",
       "      <td>0</td>\n",
       "      <td>1</td>\n",
       "      <td>0</td>\n",
       "    </tr>\n",
       "    <tr>\n",
       "      <th>5</th>\n",
       "      <td>850</td>\n",
       "      <td>43</td>\n",
       "      <td>2</td>\n",
       "      <td>125510.82</td>\n",
       "      <td>1</td>\n",
       "      <td>1</td>\n",
       "      <td>1</td>\n",
       "      <td>79084.10</td>\n",
       "      <td>0</td>\n",
       "      <td>850.000000</td>\n",
       "      <td>0</td>\n",
       "      <td>0</td>\n",
       "      <td>1</td>\n",
       "      <td>1</td>\n",
       "      <td>0</td>\n",
       "    </tr>\n",
       "  </tbody>\n",
       "</table>\n",
       "</div>"
      ],
      "text/plain": [
       "     Score  Age  Tenure    Balance  Products  Card  Active     Salary  Exited  \\\n",
       "Row                                                                             \n",
       "1      619   42       2       0.00         1     1       1  101348.88       1   \n",
       "2      608   41       1   83807.86         1     0       1  112542.58       0   \n",
       "3      502   42       8  159660.80         3     1       0  113931.57       1   \n",
       "4      699   39       1       0.00         2     0       0   93826.63       0   \n",
       "5      850   43       2  125510.82         1     1       1   79084.10       0   \n",
       "\n",
       "     score_by_products  Nationality_France  Nationality_Germany  \\\n",
       "Row                                                               \n",
       "1           619.000000                   1                    0   \n",
       "2           608.000000                   0                    0   \n",
       "3           167.333333                   1                    0   \n",
       "4           349.500000                   1                    0   \n",
       "5           850.000000                   0                    0   \n",
       "\n",
       "     Nationality_Spain  Gender_Female  Gender_Male  \n",
       "Row                                                 \n",
       "1                    0              1            0  \n",
       "2                    1              1            0  \n",
       "3                    0              1            0  \n",
       "4                    0              1            0  \n",
       "5                    1              1            0  "
      ]
     },
     "execution_count": 331,
     "metadata": {},
     "output_type": "execute_result"
    }
   ],
   "source": [
    "churn_data_set.head()"
   ]
  },
  {
   "cell_type": "markdown",
   "id": "fe54378f-493c-4331-a92d-d89f3a70c745",
   "metadata": {
    "tags": []
   },
   "source": [
    "## Análisis dataset"
   ]
  },
  {
   "cell_type": "code",
   "execution_count": 332,
   "id": "bdabf7a8-6317-4c76-84e2-fce9668359be",
   "metadata": {
    "tags": []
   },
   "outputs": [
    {
     "name": "stdout",
     "output_type": "stream",
     "text": [
      "<class 'pandas.core.frame.DataFrame'>\n",
      "Int64Index: 10000 entries, 1 to 10000\n",
      "Data columns (total 15 columns):\n",
      " #   Column               Non-Null Count  Dtype  \n",
      "---  ------               --------------  -----  \n",
      " 0   Score                10000 non-null  int64  \n",
      " 1   Age                  10000 non-null  int64  \n",
      " 2   Tenure               10000 non-null  int64  \n",
      " 3   Balance              10000 non-null  float64\n",
      " 4   Products             10000 non-null  int64  \n",
      " 5   Card                 10000 non-null  int64  \n",
      " 6   Active               10000 non-null  int64  \n",
      " 7   Salary               10000 non-null  float64\n",
      " 8   Exited               10000 non-null  int64  \n",
      " 9   score_by_products    10000 non-null  float64\n",
      " 10  Nationality_France   10000 non-null  uint8  \n",
      " 11  Nationality_Germany  10000 non-null  uint8  \n",
      " 12  Nationality_Spain    10000 non-null  uint8  \n",
      " 13  Gender_Female        10000 non-null  uint8  \n",
      " 14  Gender_Male          10000 non-null  uint8  \n",
      "dtypes: float64(3), int64(7), uint8(5)\n",
      "memory usage: 908.2 KB\n"
     ]
    }
   ],
   "source": [
    "churn_data_set.info()"
   ]
  },
  {
   "cell_type": "code",
   "execution_count": 333,
   "id": "fc4e270d-6fbc-443c-b843-8dcac5781efe",
   "metadata": {},
   "outputs": [
    {
     "data": {
      "text/html": [
       "<div>\n",
       "<style scoped>\n",
       "    .dataframe tbody tr th:only-of-type {\n",
       "        vertical-align: middle;\n",
       "    }\n",
       "\n",
       "    .dataframe tbody tr th {\n",
       "        vertical-align: top;\n",
       "    }\n",
       "\n",
       "    .dataframe thead th {\n",
       "        text-align: right;\n",
       "    }\n",
       "</style>\n",
       "<table border=\"1\" class=\"dataframe\">\n",
       "  <thead>\n",
       "    <tr style=\"text-align: right;\">\n",
       "      <th></th>\n",
       "      <th>count</th>\n",
       "      <th>mean</th>\n",
       "      <th>std</th>\n",
       "      <th>min</th>\n",
       "      <th>25%</th>\n",
       "      <th>50%</th>\n",
       "      <th>75%</th>\n",
       "      <th>max</th>\n",
       "    </tr>\n",
       "  </thead>\n",
       "  <tbody>\n",
       "    <tr>\n",
       "      <th>Score</th>\n",
       "      <td>10000.0</td>\n",
       "      <td>650.528800</td>\n",
       "      <td>96.653299</td>\n",
       "      <td>350.00</td>\n",
       "      <td>584.00</td>\n",
       "      <td>652.000</td>\n",
       "      <td>718.0000</td>\n",
       "      <td>850.00</td>\n",
       "    </tr>\n",
       "    <tr>\n",
       "      <th>Age</th>\n",
       "      <td>10000.0</td>\n",
       "      <td>38.921800</td>\n",
       "      <td>10.487806</td>\n",
       "      <td>18.00</td>\n",
       "      <td>32.00</td>\n",
       "      <td>37.000</td>\n",
       "      <td>44.0000</td>\n",
       "      <td>92.00</td>\n",
       "    </tr>\n",
       "    <tr>\n",
       "      <th>Tenure</th>\n",
       "      <td>10000.0</td>\n",
       "      <td>5.012800</td>\n",
       "      <td>2.892174</td>\n",
       "      <td>0.00</td>\n",
       "      <td>3.00</td>\n",
       "      <td>5.000</td>\n",
       "      <td>7.0000</td>\n",
       "      <td>10.00</td>\n",
       "    </tr>\n",
       "    <tr>\n",
       "      <th>Balance</th>\n",
       "      <td>10000.0</td>\n",
       "      <td>76485.889288</td>\n",
       "      <td>62397.405202</td>\n",
       "      <td>0.00</td>\n",
       "      <td>0.00</td>\n",
       "      <td>97198.540</td>\n",
       "      <td>127644.2400</td>\n",
       "      <td>250898.09</td>\n",
       "    </tr>\n",
       "    <tr>\n",
       "      <th>Products</th>\n",
       "      <td>10000.0</td>\n",
       "      <td>1.530200</td>\n",
       "      <td>0.581654</td>\n",
       "      <td>1.00</td>\n",
       "      <td>1.00</td>\n",
       "      <td>1.000</td>\n",
       "      <td>2.0000</td>\n",
       "      <td>4.00</td>\n",
       "    </tr>\n",
       "    <tr>\n",
       "      <th>Card</th>\n",
       "      <td>10000.0</td>\n",
       "      <td>0.705500</td>\n",
       "      <td>0.455840</td>\n",
       "      <td>0.00</td>\n",
       "      <td>0.00</td>\n",
       "      <td>1.000</td>\n",
       "      <td>1.0000</td>\n",
       "      <td>1.00</td>\n",
       "    </tr>\n",
       "    <tr>\n",
       "      <th>Active</th>\n",
       "      <td>10000.0</td>\n",
       "      <td>0.515100</td>\n",
       "      <td>0.499797</td>\n",
       "      <td>0.00</td>\n",
       "      <td>0.00</td>\n",
       "      <td>1.000</td>\n",
       "      <td>1.0000</td>\n",
       "      <td>1.00</td>\n",
       "    </tr>\n",
       "    <tr>\n",
       "      <th>Salary</th>\n",
       "      <td>10000.0</td>\n",
       "      <td>100090.239881</td>\n",
       "      <td>57510.492818</td>\n",
       "      <td>11.58</td>\n",
       "      <td>51002.11</td>\n",
       "      <td>100193.915</td>\n",
       "      <td>149388.2475</td>\n",
       "      <td>199992.48</td>\n",
       "    </tr>\n",
       "    <tr>\n",
       "      <th>Exited</th>\n",
       "      <td>10000.0</td>\n",
       "      <td>0.203700</td>\n",
       "      <td>0.402769</td>\n",
       "      <td>0.00</td>\n",
       "      <td>0.00</td>\n",
       "      <td>0.000</td>\n",
       "      <td>0.0000</td>\n",
       "      <td>1.00</td>\n",
       "    </tr>\n",
       "    <tr>\n",
       "      <th>score_by_products</th>\n",
       "      <td>10000.0</td>\n",
       "      <td>486.417308</td>\n",
       "      <td>183.636877</td>\n",
       "      <td>94.00</td>\n",
       "      <td>323.00</td>\n",
       "      <td>443.000</td>\n",
       "      <td>653.0000</td>\n",
       "      <td>850.00</td>\n",
       "    </tr>\n",
       "    <tr>\n",
       "      <th>Nationality_France</th>\n",
       "      <td>10000.0</td>\n",
       "      <td>0.501400</td>\n",
       "      <td>0.500023</td>\n",
       "      <td>0.00</td>\n",
       "      <td>0.00</td>\n",
       "      <td>1.000</td>\n",
       "      <td>1.0000</td>\n",
       "      <td>1.00</td>\n",
       "    </tr>\n",
       "    <tr>\n",
       "      <th>Nationality_Germany</th>\n",
       "      <td>10000.0</td>\n",
       "      <td>0.250900</td>\n",
       "      <td>0.433553</td>\n",
       "      <td>0.00</td>\n",
       "      <td>0.00</td>\n",
       "      <td>0.000</td>\n",
       "      <td>1.0000</td>\n",
       "      <td>1.00</td>\n",
       "    </tr>\n",
       "    <tr>\n",
       "      <th>Nationality_Spain</th>\n",
       "      <td>10000.0</td>\n",
       "      <td>0.247700</td>\n",
       "      <td>0.431698</td>\n",
       "      <td>0.00</td>\n",
       "      <td>0.00</td>\n",
       "      <td>0.000</td>\n",
       "      <td>0.0000</td>\n",
       "      <td>1.00</td>\n",
       "    </tr>\n",
       "    <tr>\n",
       "      <th>Gender_Female</th>\n",
       "      <td>10000.0</td>\n",
       "      <td>0.454300</td>\n",
       "      <td>0.497932</td>\n",
       "      <td>0.00</td>\n",
       "      <td>0.00</td>\n",
       "      <td>0.000</td>\n",
       "      <td>1.0000</td>\n",
       "      <td>1.00</td>\n",
       "    </tr>\n",
       "    <tr>\n",
       "      <th>Gender_Male</th>\n",
       "      <td>10000.0</td>\n",
       "      <td>0.545700</td>\n",
       "      <td>0.497932</td>\n",
       "      <td>0.00</td>\n",
       "      <td>0.00</td>\n",
       "      <td>1.000</td>\n",
       "      <td>1.0000</td>\n",
       "      <td>1.00</td>\n",
       "    </tr>\n",
       "  </tbody>\n",
       "</table>\n",
       "</div>"
      ],
      "text/plain": [
       "                       count           mean           std     min       25%  \\\n",
       "Score                10000.0     650.528800     96.653299  350.00    584.00   \n",
       "Age                  10000.0      38.921800     10.487806   18.00     32.00   \n",
       "Tenure               10000.0       5.012800      2.892174    0.00      3.00   \n",
       "Balance              10000.0   76485.889288  62397.405202    0.00      0.00   \n",
       "Products             10000.0       1.530200      0.581654    1.00      1.00   \n",
       "Card                 10000.0       0.705500      0.455840    0.00      0.00   \n",
       "Active               10000.0       0.515100      0.499797    0.00      0.00   \n",
       "Salary               10000.0  100090.239881  57510.492818   11.58  51002.11   \n",
       "Exited               10000.0       0.203700      0.402769    0.00      0.00   \n",
       "score_by_products    10000.0     486.417308    183.636877   94.00    323.00   \n",
       "Nationality_France   10000.0       0.501400      0.500023    0.00      0.00   \n",
       "Nationality_Germany  10000.0       0.250900      0.433553    0.00      0.00   \n",
       "Nationality_Spain    10000.0       0.247700      0.431698    0.00      0.00   \n",
       "Gender_Female        10000.0       0.454300      0.497932    0.00      0.00   \n",
       "Gender_Male          10000.0       0.545700      0.497932    0.00      0.00   \n",
       "\n",
       "                            50%          75%        max  \n",
       "Score                   652.000     718.0000     850.00  \n",
       "Age                      37.000      44.0000      92.00  \n",
       "Tenure                    5.000       7.0000      10.00  \n",
       "Balance               97198.540  127644.2400  250898.09  \n",
       "Products                  1.000       2.0000       4.00  \n",
       "Card                      1.000       1.0000       1.00  \n",
       "Active                    1.000       1.0000       1.00  \n",
       "Salary               100193.915  149388.2475  199992.48  \n",
       "Exited                    0.000       0.0000       1.00  \n",
       "score_by_products       443.000     653.0000     850.00  \n",
       "Nationality_France        1.000       1.0000       1.00  \n",
       "Nationality_Germany       0.000       1.0000       1.00  \n",
       "Nationality_Spain         0.000       0.0000       1.00  \n",
       "Gender_Female             0.000       1.0000       1.00  \n",
       "Gender_Male               1.000       1.0000       1.00  "
      ]
     },
     "execution_count": 333,
     "metadata": {},
     "output_type": "execute_result"
    }
   ],
   "source": [
    "churn_data_set.describe().T"
   ]
  },
  {
   "cell_type": "markdown",
   "id": "0d621a53-8038-4f57-bbc0-72e7aed3c60b",
   "metadata": {},
   "source": [
    "# Entrenamiento y test"
   ]
  },
  {
   "cell_type": "code",
   "execution_count": 334,
   "id": "ca5dbc71-f68a-4189-9892-4fd7570001af",
   "metadata": {
    "tags": []
   },
   "outputs": [],
   "source": [
    "X = churn_data_set.drop([\"Exited\",\"Nationality_Spain\",\"Gender_Female\"], axis=1) \n",
    "y = churn_data_set.Exited"
   ]
  },
  {
   "cell_type": "code",
   "execution_count": 409,
   "id": "e7a67b7e-e412-4e6a-9867-2e08d11d1bfb",
   "metadata": {},
   "outputs": [
    {
     "name": "stdout",
     "output_type": "stream",
     "text": [
      "<class 'pandas.core.frame.DataFrame'>\n",
      "Int64Index: 10000 entries, 1 to 10000\n",
      "Data columns (total 12 columns):\n",
      " #   Column               Non-Null Count  Dtype  \n",
      "---  ------               --------------  -----  \n",
      " 0   Score                10000 non-null  int64  \n",
      " 1   Age                  10000 non-null  int64  \n",
      " 2   Tenure               10000 non-null  int64  \n",
      " 3   Balance              10000 non-null  float64\n",
      " 4   Products             10000 non-null  int64  \n",
      " 5   Card                 10000 non-null  int64  \n",
      " 6   Active               10000 non-null  int64  \n",
      " 7   Salary               10000 non-null  float64\n",
      " 8   score_by_products    10000 non-null  float64\n",
      " 9   Nationality_France   10000 non-null  uint8  \n",
      " 10  Nationality_Germany  10000 non-null  uint8  \n",
      " 11  Gender_Male          10000 non-null  uint8  \n",
      "dtypes: float64(3), int64(6), uint8(3)\n",
      "memory usage: 810.5 KB\n"
     ]
    }
   ],
   "source": [
    "X.info()"
   ]
  },
  {
   "cell_type": "code",
   "execution_count": 410,
   "id": "7d79b7c2-1a4e-4e6d-a51a-733c04614701",
   "metadata": {},
   "outputs": [],
   "source": [
    "X_train, X_test, y_train, y_test = train_test_split(X, y, test_size=0.30, random_state=42) "
   ]
  },
  {
   "cell_type": "code",
   "execution_count": 411,
   "id": "df469f83-69d2-4ebe-a18e-c8a8927da0bf",
   "metadata": {},
   "outputs": [
    {
     "data": {
      "text/html": [
       "<div>\n",
       "<style scoped>\n",
       "    .dataframe tbody tr th:only-of-type {\n",
       "        vertical-align: middle;\n",
       "    }\n",
       "\n",
       "    .dataframe tbody tr th {\n",
       "        vertical-align: top;\n",
       "    }\n",
       "\n",
       "    .dataframe thead th {\n",
       "        text-align: right;\n",
       "    }\n",
       "</style>\n",
       "<table border=\"1\" class=\"dataframe\">\n",
       "  <thead>\n",
       "    <tr style=\"text-align: right;\">\n",
       "      <th></th>\n",
       "      <th>Score</th>\n",
       "      <th>Age</th>\n",
       "      <th>Tenure</th>\n",
       "      <th>Balance</th>\n",
       "      <th>Products</th>\n",
       "      <th>Card</th>\n",
       "      <th>Active</th>\n",
       "      <th>Salary</th>\n",
       "      <th>score_by_products</th>\n",
       "      <th>Nationality_France</th>\n",
       "      <th>Nationality_Germany</th>\n",
       "      <th>Gender_Male</th>\n",
       "    </tr>\n",
       "    <tr>\n",
       "      <th>Row</th>\n",
       "      <th></th>\n",
       "      <th></th>\n",
       "      <th></th>\n",
       "      <th></th>\n",
       "      <th></th>\n",
       "      <th></th>\n",
       "      <th></th>\n",
       "      <th></th>\n",
       "      <th></th>\n",
       "      <th></th>\n",
       "      <th></th>\n",
       "      <th></th>\n",
       "    </tr>\n",
       "  </thead>\n",
       "  <tbody>\n",
       "    <tr>\n",
       "      <th>9070</th>\n",
       "      <td>619</td>\n",
       "      <td>32</td>\n",
       "      <td>4</td>\n",
       "      <td>175406.13</td>\n",
       "      <td>2</td>\n",
       "      <td>1</td>\n",
       "      <td>1</td>\n",
       "      <td>172792.43</td>\n",
       "      <td>309.5</td>\n",
       "      <td>0</td>\n",
       "      <td>0</td>\n",
       "      <td>0</td>\n",
       "    </tr>\n",
       "    <tr>\n",
       "      <th>2604</th>\n",
       "      <td>643</td>\n",
       "      <td>34</td>\n",
       "      <td>7</td>\n",
       "      <td>160426.07</td>\n",
       "      <td>1</td>\n",
       "      <td>0</td>\n",
       "      <td>1</td>\n",
       "      <td>188533.11</td>\n",
       "      <td>643.0</td>\n",
       "      <td>0</td>\n",
       "      <td>1</td>\n",
       "      <td>0</td>\n",
       "    </tr>\n",
       "    <tr>\n",
       "      <th>7739</th>\n",
       "      <td>561</td>\n",
       "      <td>33</td>\n",
       "      <td>6</td>\n",
       "      <td>0.00</td>\n",
       "      <td>2</td>\n",
       "      <td>0</td>\n",
       "      <td>0</td>\n",
       "      <td>173680.39</td>\n",
       "      <td>280.5</td>\n",
       "      <td>1</td>\n",
       "      <td>0</td>\n",
       "      <td>1</td>\n",
       "    </tr>\n",
       "    <tr>\n",
       "      <th>1580</th>\n",
       "      <td>618</td>\n",
       "      <td>41</td>\n",
       "      <td>8</td>\n",
       "      <td>37702.79</td>\n",
       "      <td>1</td>\n",
       "      <td>1</td>\n",
       "      <td>1</td>\n",
       "      <td>195775.48</td>\n",
       "      <td>618.0</td>\n",
       "      <td>0</td>\n",
       "      <td>1</td>\n",
       "      <td>1</td>\n",
       "    </tr>\n",
       "    <tr>\n",
       "      <th>5059</th>\n",
       "      <td>714</td>\n",
       "      <td>37</td>\n",
       "      <td>9</td>\n",
       "      <td>148466.93</td>\n",
       "      <td>2</td>\n",
       "      <td>0</td>\n",
       "      <td>1</td>\n",
       "      <td>151280.96</td>\n",
       "      <td>357.0</td>\n",
       "      <td>1</td>\n",
       "      <td>0</td>\n",
       "      <td>1</td>\n",
       "    </tr>\n",
       "  </tbody>\n",
       "</table>\n",
       "</div>"
      ],
      "text/plain": [
       "      Score  Age  Tenure    Balance  Products  Card  Active     Salary  \\\n",
       "Row                                                                      \n",
       "9070    619   32       4  175406.13         2     1       1  172792.43   \n",
       "2604    643   34       7  160426.07         1     0       1  188533.11   \n",
       "7739    561   33       6       0.00         2     0       0  173680.39   \n",
       "1580    618   41       8   37702.79         1     1       1  195775.48   \n",
       "5059    714   37       9  148466.93         2     0       1  151280.96   \n",
       "\n",
       "      score_by_products  Nationality_France  Nationality_Germany  Gender_Male  \n",
       "Row                                                                            \n",
       "9070              309.5                   0                    0            0  \n",
       "2604              643.0                   0                    1            0  \n",
       "7739              280.5                   1                    0            1  \n",
       "1580              618.0                   0                    1            1  \n",
       "5059              357.0                   1                    0            1  "
      ]
     },
     "execution_count": 411,
     "metadata": {},
     "output_type": "execute_result"
    }
   ],
   "source": [
    "X_train.head()"
   ]
  },
  {
   "cell_type": "markdown",
   "id": "6cc91899-c483-41a1-a4da-0fa523d5966a",
   "metadata": {},
   "source": [
    "# Arboles de desición"
   ]
  },
  {
   "cell_type": "code",
   "execution_count": 412,
   "id": "d790e465-ee58-4f2e-926e-6b0f4c885464",
   "metadata": {},
   "outputs": [],
   "source": [
    "tree = DecisionTreeClassifier(max_depth=7, random_state = 42) #Creamos el modelo"
   ]
  },
  {
   "cell_type": "code",
   "execution_count": 413,
   "id": "d25ebd56-40a3-49f2-9e3a-2d816a572a54",
   "metadata": {},
   "outputs": [
    {
     "data": {
      "text/plain": [
       "DecisionTreeClassifier(max_depth=7, random_state=42)"
      ]
     },
     "execution_count": 413,
     "metadata": {},
     "output_type": "execute_result"
    }
   ],
   "source": [
    "tree.fit(X_train,y_train)"
   ]
  },
  {
   "cell_type": "code",
   "execution_count": 414,
   "id": "2e783151-067c-4ea0-a3da-b0cff8106833",
   "metadata": {},
   "outputs": [],
   "source": [
    "y_train_pred = tree.predict(X_train) #Prediccion en Train\n",
    "y_test_pred = tree.predict(X_test)"
   ]
  },
  {
   "cell_type": "code",
   "execution_count": 415,
   "id": "1e6c16d1-9299-4d64-9bf8-dfbffa47da10",
   "metadata": {},
   "outputs": [
    {
     "name": "stdout",
     "output_type": "stream",
     "text": [
      "% de aciertos sobre el set de entrenamiento: 0.8751428571428571\n",
      "% de aciertos sobre el set de evaluación: 0.8606666666666667\n"
     ]
    }
   ],
   "source": [
    "#Calculo el accuracy en Train\n",
    "train_accuracy = accuracy_score(y_train, y_train_pred)\n",
    "\n",
    "#Calculo el accuracy en Test\n",
    "test_accuracy = accuracy_score(y_test, y_test_pred)\n",
    "\n",
    "print('% de aciertos sobre el set de entrenamiento:', train_accuracy)\n",
    "print('% de aciertos sobre el set de evaluación:',test_accuracy)"
   ]
  },
  {
   "cell_type": "code",
   "execution_count": 416,
   "id": "72745784-e2e6-40cd-a94e-b42753eaf7ff",
   "metadata": {},
   "outputs": [
    {
     "data": {
      "image/png": "[encoded data removed]",
      "text/plain": [
       "<Figure size 360x360 with 1 Axes>"
      ]
     },
     "metadata": {
      "needs_background": "light"
     },
     "output_type": "display_data"
    }
   ],
   "source": [
    "matriz = confusion_matrix(y_test, y_test_pred)\n",
    "fig, ax = plt.subplots(figsize=(5, 5))\n",
    "ax.matshow(matriz, cmap=plt.cm.Blues, alpha=0.3)\n",
    "for i in range(matriz.shape[0]):\n",
    "    for j in range(matriz.shape[1]):\n",
    "        ax.text(x=j, y=i,s=matriz[i, j], va='center', ha='center', size='xx-large')\n",
    " \n",
    "plt.xlabel('Predicciones', fontsize=18)\n",
    "plt.ylabel('Reales', fontsize=18)\n",
    "plt.title('Matriz de Confusión', fontsize=18)\n",
    "plt.show()"
   ]
  },
  {
   "cell_type": "code",
   "execution_count": 417,
   "id": "622dc699-f5ab-4c46-a01e-1f2dd201068d",
   "metadata": {},
   "outputs": [
    {
     "name": "stdout",
     "output_type": "stream",
     "text": [
      "0.46 accuracy with a standard deviation of 0.05\n"
     ]
    }
   ],
   "source": [
    "scores = cross_val_score(tree, X, y, cv=10,scoring='recall')\n",
    "print(\"%0.2f accuracy with a standard deviation of %0.2f\" % (scores.mean(), scores.std()))"
   ]
  },
  {
   "cell_type": "code",
   "execution_count": 418,
   "id": "84c85fda-14bb-4ca0-9a3a-a33623252e56",
   "metadata": {},
   "outputs": [
    {
     "data": {
      "image/png": "[encoded data removed]",
      "text/plain": [
       "<Figure size 1800x504 with 1 Axes>"
      ]
     },
     "metadata": {
      "needs_background": "light"
     },
     "output_type": "display_data"
    }
   ],
   "source": [
    "plt.figure(figsize=(25,7))\n",
    "importances = tree.feature_importances_\n",
    "columns = X.columns\n",
    "sns.barplot(x = columns, y =importances)\n",
    "plt.title('Importancia de cada Feature')\n",
    "plt.show()"
   ]
  },
  {
   "cell_type": "markdown",
   "id": "6eb142d3-a26b-410f-b9f2-f7a4fb20f586",
   "metadata": {},
   "source": [
    "# Random Forest"
   ]
  },
  {
   "cell_type": "code",
   "execution_count": 420,
   "id": "27fd9522-7885-4ec7-854a-4aa8b4193db7",
   "metadata": {},
   "outputs": [
    {
     "data": {
      "text/plain": [
       "RandomForestClassifier(class_weight='balanced', n_estimators=9, random_state=11)"
      ]
     },
     "execution_count": 420,
     "metadata": {},
     "output_type": "execute_result"
    }
   ],
   "source": [
    "model = RandomForestClassifier(random_state=11, n_estimators=9,\n",
    "                                max_features=\"auto\",class_weight = 'balanced')\n",
    "model.fit(X_train, y_train)"
   ]
  },
  {
   "cell_type": "code",
   "execution_count": 421,
   "id": "6c8f0146-3e0a-443e-9a68-b64c296d7bc4",
   "metadata": {},
   "outputs": [],
   "source": [
    "y_train_pred = model.predict(X_train) #Prediccion en Train\n",
    "y_test_pred = model.predict(X_test)"
   ]
  },
  {
   "cell_type": "code",
   "execution_count": 422,
   "id": "739a002b-a2f3-474d-8f9d-6e6e1fa6b26d",
   "metadata": {},
   "outputs": [
    {
     "name": "stdout",
     "output_type": "stream",
     "text": [
      "% de aciertos sobre el set de entrenamiento: 0.9887142857142858\n",
      "% de aciertos sobre el set de evaluación: 0.8543333333333333\n"
     ]
    }
   ],
   "source": [
    "#Calculo el accuracy en Train\n",
    "train_accuracy = accuracy_score(y_train, y_train_pred)\n",
    "\n",
    "#Calculo el accuracy en Test\n",
    "test_accuracy = accuracy_score(y_test, y_test_pred)\n",
    "\n",
    "print('% de aciertos sobre el set de entrenamiento:', train_accuracy)\n",
    "print('% de aciertos sobre el set de evaluación:',test_accuracy)"
   ]
  },
  {
   "cell_type": "code",
   "execution_count": 423,
   "id": "b0871404-62cc-426c-94fe-bf770bd9c23f",
   "metadata": {},
   "outputs": [
    {
     "data": {
      "image/png": "[encoded data removed]",
      "text/plain": [
       "<Figure size 360x360 with 1 Axes>"
      ]
     },
     "metadata": {
      "needs_background": "light"
     },
     "output_type": "display_data"
    }
   ],
   "source": [
    "matriz = confusion_matrix(y_test, y_test_pred)\n",
    "fig, ax = plt.subplots(figsize=(5, 5))\n",
    "ax.matshow(matriz, cmap=plt.cm.Blues, alpha=0.3)\n",
    "for i in range(matriz.shape[0]):\n",
    "    for j in range(matriz.shape[1]):\n",
    "        ax.text(x=j, y=i,s=matriz[i, j], va='center', ha='center', size='xx-large')\n",
    " \n",
    "plt.xlabel('Predicciones', fontsize=18)\n",
    "plt.ylabel('Reales', fontsize=18)\n",
    "plt.title('Matriz de Confusión', fontsize=18)\n",
    "plt.show()"
   ]
  },
  {
   "cell_type": "code",
   "execution_count": 424,
   "id": "66695cb2-2a5b-4041-8f7c-b0806beb1703",
   "metadata": {},
   "outputs": [
    {
     "name": "stdout",
     "output_type": "stream",
     "text": [
      "0.46 accuracy with a standard deviation of 0.04\n"
     ]
    }
   ],
   "source": [
    "scores = cross_val_score(model, X, y, cv=10,scoring='recall')\n",
    "print(\"%0.2f accuracy with a standard deviation of %0.2f\" % (scores.mean(), scores.std()))"
   ]
  },
  {
   "cell_type": "code",
   "execution_count": 425,
   "id": "8dd0f0d0-5cc5-472e-84a6-819c35003771",
   "metadata": {},
   "outputs": [
    {
     "data": {
      "image/png": "[encoded data removed]",
      "text/plain": [
       "<Figure size 1800x504 with 1 Axes>"
      ]
     },
     "metadata": {
      "needs_background": "light"
     },
     "output_type": "display_data"
    }
   ],
   "source": [
    "plt.figure(figsize=(25,7))\n",
    "importances = model.feature_importances_\n",
    "columns = X.columns\n",
    "sns.barplot(x = columns, y =importances)\n",
    "plt.title('Importancia de cada Feature')\n",
    "plt.show()"
   ]
  },
  {
   "cell_type": "markdown",
   "id": "3161b17e-3c82-4b09-a8f3-565da074049a",
   "metadata": {},
   "source": [
    "# KNN"
   ]
  },
  {
   "cell_type": "code",
   "execution_count": 426,
   "id": "0490c1c8-2eda-4d8a-9b2d-cd71e43f7006",
   "metadata": {},
   "outputs": [
    {
     "data": {
      "text/plain": [
       "KNeighborsClassifier(n_neighbors=3)"
      ]
     },
     "execution_count": 426,
     "metadata": {},
     "output_type": "execute_result"
    }
   ],
   "source": [
    "knn = KNeighborsClassifier(n_neighbors=3)\n",
    "\n",
    "\n",
    "knn.fit(X, y)"
   ]
  },
  {
   "cell_type": "code",
   "execution_count": 427,
   "id": "d6a87f55-e9d5-4af1-b88f-be8ddeb16a76",
   "metadata": {},
   "outputs": [],
   "source": [
    "y_train_pred = knn.predict(X_train) #Prediccion en Train\n",
    "y_test_pred = knn.predict(X_test)"
   ]
  },
  {
   "cell_type": "code",
   "execution_count": 428,
   "id": "c5958193-0049-4e95-915b-4064d3e9fa7b",
   "metadata": {},
   "outputs": [
    {
     "name": "stdout",
     "output_type": "stream",
     "text": [
      "% de aciertos sobre el set de entrenamiento: 0.8448571428571429\n",
      "% de aciertos sobre el set de evaluación: 0.8466666666666667\n"
     ]
    }
   ],
   "source": [
    "#Calculo el accuracy en Train\n",
    "train_accuracy = accuracy_score(y_train, y_train_pred)\n",
    "\n",
    "#Calculo el accuracy en Test\n",
    "test_accuracy = accuracy_score(y_test, y_test_pred)\n",
    "\n",
    "print('% de aciertos sobre el set de entrenamiento:', train_accuracy)\n",
    "print('% de aciertos sobre el set de evaluación:',test_accuracy)"
   ]
  },
  {
   "cell_type": "code",
   "execution_count": 352,
   "id": "eac17944-c822-48e2-9411-3055550cc71e",
   "metadata": {},
   "outputs": [
    {
     "data": {
      "image/png": "[encoded data removed]",
      "text/plain": [
       "<Figure size 360x360 with 1 Axes>"
      ]
     },
     "metadata": {
      "needs_background": "light"
     },
     "output_type": "display_data"
    }
   ],
   "source": [
    "matriz = confusion_matrix(y_test, y_test_pred)\n",
    "fig, ax = plt.subplots(figsize=(5, 5))\n",
    "ax.matshow(matriz, cmap=plt.cm.Blues, alpha=0.3)\n",
    "for i in range(matriz.shape[0]):\n",
    "    for j in range(matriz.shape[1]):\n",
    "        ax.text(x=j, y=i,s=matriz[i, j], va='center', ha='center', size='xx-large')\n",
    " \n",
    "plt.xlabel('Predicciones', fontsize=18)\n",
    "plt.ylabel('Reales', fontsize=18)\n",
    "plt.title('Matriz de Confusión', fontsize=18)\n",
    "plt.show()"
   ]
  },
  {
   "cell_type": "code",
   "execution_count": 429,
   "id": "c9ced591-c7af-43cf-aa17-b95e061791f6",
   "metadata": {},
   "outputs": [
    {
     "name": "stdout",
     "output_type": "stream",
     "text": [
      "0.15 accuracy with a standard deviation of 0.03\n"
     ]
    }
   ],
   "source": [
    "scores = cross_val_score(knn, X, y, cv=10,scoring='recall')\n",
    "print(\"%0.2f accuracy with a standard deviation of %0.2f\" % (scores.mean(), scores.std()))"
   ]
  },
  {
   "cell_type": "markdown",
   "id": "84382623-0e12-44ee-93d8-81648052db0a",
   "metadata": {},
   "source": [
    "## Tomo los balances > 0"
   ]
  },
  {
   "cell_type": "code",
   "execution_count": 430,
   "id": "f9ef6e56-c8c4-4537-ad89-aa94eb8f8873",
   "metadata": {},
   "outputs": [],
   "source": [
    "X = churn_data_set.loc[churn_data_set['Balance'] != 0].drop([\"Exited\",\"Nationality_Spain\",\"Gender_Female\"], axis=1) \n",
    "y = churn_data_set.loc[churn_data_set['Balance'] != 0].Exited"
   ]
  },
  {
   "cell_type": "code",
   "execution_count": 431,
   "id": "8681c0ab-2052-4608-99a7-94a1a8e421f7",
   "metadata": {},
   "outputs": [],
   "source": [
    "X_train, X_test, y_train, y_test = train_test_split(X, y, test_size=0.30, random_state=42) "
   ]
  },
  {
   "cell_type": "code",
   "execution_count": 432,
   "id": "aeabfafe-673c-4ad2-ad67-c2d66370d3a3",
   "metadata": {},
   "outputs": [
    {
     "data": {
      "text/plain": [
       "DecisionTreeClassifier(max_depth=7, random_state=42)"
      ]
     },
     "execution_count": 432,
     "metadata": {},
     "output_type": "execute_result"
    }
   ],
   "source": [
    "tree.fit(X_train,y_train)"
   ]
  },
  {
   "cell_type": "code",
   "execution_count": 433,
   "id": "1e84b616-68af-42b4-ade0-2505fd27e1e1",
   "metadata": {},
   "outputs": [],
   "source": [
    "y_train_pred = tree.predict(X_train) #Prediccion en Train\n",
    "y_test_pred = tree.predict(X_test)"
   ]
  },
  {
   "cell_type": "code",
   "execution_count": 434,
   "id": "79791ed8-d8ca-4527-b942-24be77c0d884",
   "metadata": {},
   "outputs": [
    {
     "name": "stdout",
     "output_type": "stream",
     "text": [
      "% de aciertos sobre el set de entrenamiento: 0.8563115487914056\n",
      "% de aciertos sobre el set de evaluación: 0.8135770234986945\n"
     ]
    }
   ],
   "source": [
    "#Calculo el accuracy en Train\n",
    "train_accuracy = accuracy_score(y_train, y_train_pred)\n",
    "\n",
    "#Calculo el accuracy en Test\n",
    "test_accuracy = accuracy_score(y_test, y_test_pred)\n",
    "\n",
    "print('% de aciertos sobre el set de entrenamiento:', train_accuracy)\n",
    "print('% de aciertos sobre el set de evaluación:',test_accuracy)"
   ]
  },
  {
   "cell_type": "code",
   "execution_count": 435,
   "id": "f1aa1a62-3d51-439e-9ef0-a3fd19295118",
   "metadata": {},
   "outputs": [
    {
     "data": {
      "image/png": "[encoded data removed]",
      "text/plain": [
       "<Figure size 360x360 with 1 Axes>"
      ]
     },
     "metadata": {
      "needs_background": "light"
     },
     "output_type": "display_data"
    }
   ],
   "source": [
    "matriz = confusion_matrix(y_test, y_test_pred)\n",
    "fig, ax = plt.subplots(figsize=(5, 5))\n",
    "ax.matshow(matriz, cmap=plt.cm.Blues, alpha=0.3)\n",
    "for i in range(matriz.shape[0]):\n",
    "    for j in range(matriz.shape[1]):\n",
    "        ax.text(x=j, y=i,s=matriz[i, j], va='center', ha='center', size='xx-large')\n",
    " \n",
    "plt.xlabel('Predicciones', fontsize=18)\n",
    "plt.ylabel('Reales', fontsize=18)\n",
    "plt.title('Matriz de Confusión', fontsize=18)\n",
    "plt.show()"
   ]
  },
  {
   "cell_type": "code",
   "execution_count": 436,
   "id": "2b3ff431-89d1-4e0d-b9f3-485b0d68b81b",
   "metadata": {},
   "outputs": [
    {
     "name": "stdout",
     "output_type": "stream",
     "text": [
      "0.49 accuracy with a standard deviation of 0.06\n"
     ]
    }
   ],
   "source": [
    "scores = cross_val_score(tree, X, y, cv=10,scoring='recall')\n",
    "print(\"%0.2f accuracy with a standard deviation of %0.2f\" % (scores.mean(), scores.std()))"
   ]
  },
  {
   "cell_type": "code",
   "execution_count": 437,
   "id": "6a18efe1-ed1c-4d4e-9431-bbbe028e4d8c",
   "metadata": {},
   "outputs": [
    {
     "data": {
      "image/png": "[encoded data removed]",
      "text/plain": [
       "<Figure size 1800x504 with 1 Axes>"
      ]
     },
     "metadata": {
      "needs_background": "light"
     },
     "output_type": "display_data"
    }
   ],
   "source": [
    "plt.figure(figsize=(25,7))\n",
    "importances = tree.feature_importances_\n",
    "columns = X.columns\n",
    "sns.barplot(x = columns, y =importances)\n",
    "plt.title('Importancia de cada Feature')\n",
    "plt.show()"
   ]
  },
  {
   "cell_type": "markdown",
   "id": "a65aa9ca-1b1c-4112-8ce9-a07a66791f24",
   "metadata": {},
   "source": [
    "## Arboles de desición con la variables más importantes"
   ]
  },
  {
   "cell_type": "markdown",
   "id": "190e3730-9729-476d-90ad-99a21a702a9c",
   "metadata": {},
   "source": [
    "Se quita del dataset las columnas de: Score, Tenure, Card, Score_by_product, Nationality y Gender"
   ]
  },
  {
   "cell_type": "code",
   "execution_count": 438,
   "id": "96d6cf40-ed42-44ef-a2c3-aa6b94360116",
   "metadata": {},
   "outputs": [],
   "source": [
    "X = churn_data_set.drop([\"Exited\",\"Nationality_Spain\",\"Nationality_France\",\"Nationality_Germany\",\"Gender_Female\",\"Gender_Male\", \"Card\", \"Score\", \"Tenure\", \"score_by_products\"], axis=1) \n",
    "y = churn_data_set.Exited"
   ]
  },
  {
   "cell_type": "code",
   "execution_count": 439,
   "id": "659bea5a-0dd3-4e8a-acd1-164ed67987fb",
   "metadata": {},
   "outputs": [],
   "source": [
    "X_train, X_test, y_train, y_test = train_test_split(X, y, test_size=0.30, random_state=42) "
   ]
  },
  {
   "cell_type": "code",
   "execution_count": 440,
   "id": "548fe69c-78e2-4ede-9bce-d5c37bf78c1f",
   "metadata": {},
   "outputs": [
    {
     "data": {
      "text/plain": [
       "DecisionTreeClassifier(max_depth=7, random_state=42)"
      ]
     },
     "execution_count": 440,
     "metadata": {},
     "output_type": "execute_result"
    }
   ],
   "source": [
    "tree.fit(X_train,y_train)"
   ]
  },
  {
   "cell_type": "code",
   "execution_count": 441,
   "id": "6c0ca4ea-78ba-42fe-8737-acfd2c6ed7f1",
   "metadata": {},
   "outputs": [],
   "source": [
    "y_train_pred = tree.predict(X_train) #Prediccion en Train\n",
    "y_test_pred = tree.predict(X_test)"
   ]
  },
  {
   "cell_type": "code",
   "execution_count": 442,
   "id": "bebc55ef-26f5-459c-b9fd-40a53091e2a3",
   "metadata": {},
   "outputs": [
    {
     "name": "stdout",
     "output_type": "stream",
     "text": [
      "% de aciertos sobre el set de entrenamiento: 0.865\n",
      "% de aciertos sobre el set de evaluación: 0.8546666666666667\n"
     ]
    }
   ],
   "source": [
    "#Calculo el accuracy en Train\n",
    "train_accuracy = accuracy_score(y_train, y_train_pred)\n",
    "\n",
    "#Calculo el accuracy en Test\n",
    "test_accuracy = accuracy_score(y_test, y_test_pred)\n",
    "\n",
    "print('% de aciertos sobre el set de entrenamiento:', train_accuracy)\n",
    "print('% de aciertos sobre el set de evaluación:',test_accuracy)"
   ]
  },
  {
   "cell_type": "code",
   "execution_count": 443,
   "id": "3a700eee-f0c5-4ce2-9c37-736f66112cc0",
   "metadata": {},
   "outputs": [
    {
     "data": {
      "image/png": "[encoded data removed]",
      "text/plain": [
       "<Figure size 360x360 with 1 Axes>"
      ]
     },
     "metadata": {
      "needs_background": "light"
     },
     "output_type": "display_data"
    }
   ],
   "source": [
    "matriz = confusion_matrix(y_test, y_test_pred)\n",
    "fig, ax = plt.subplots(figsize=(5, 5))\n",
    "ax.matshow(matriz, cmap=plt.cm.Blues, alpha=0.3)\n",
    "for i in range(matriz.shape[0]):\n",
    "    for j in range(matriz.shape[1]):\n",
    "        ax.text(x=j, y=i,s=matriz[i, j], va='center', ha='center', size='xx-large')\n",
    " \n",
    "plt.xlabel('Predicciones', fontsize=18)\n",
    "plt.ylabel('Reales', fontsize=18)\n",
    "plt.title('Matriz de Confusión', fontsize=18)\n",
    "plt.show()"
   ]
  },
  {
   "cell_type": "code",
   "execution_count": 444,
   "id": "1fd5a415-635b-4f1a-bbb9-e701831506c7",
   "metadata": {},
   "outputs": [
    {
     "name": "stdout",
     "output_type": "stream",
     "text": [
      "0.42 accuracy with a standard deviation of 0.04\n"
     ]
    }
   ],
   "source": [
    "scores = cross_val_score(tree, X, y, cv=10,scoring='recall')\n",
    "print(\"%0.2f accuracy with a standard deviation of %0.2f\" % (scores.mean(), scores.std()))"
   ]
  },
  {
   "cell_type": "code",
   "execution_count": 445,
   "id": "2e0dd941-1c99-48b3-93ed-7ec7b4fd4c56",
   "metadata": {},
   "outputs": [
    {
     "data": {
      "image/png": "[encoded data removed]",
      "text/plain": [
       "<Figure size 1800x504 with 1 Axes>"
      ]
     },
     "metadata": {
      "needs_background": "light"
     },
     "output_type": "display_data"
    }
   ],
   "source": [
    "plt.figure(figsize=(25,7))\n",
    "importances = tree.feature_importances_\n",
    "columns = X.columns\n",
    "sns.barplot(x = columns, y =importances)\n",
    "plt.title('Importancia de cada Feature')\n",
    "plt.show()"
   ]
  },
  {
   "cell_type": "markdown",
   "id": "d694234c-6138-4e21-b4e3-60660eca7741",
   "metadata": {},
   "source": [
    "## Random forest con la variables más importantes\n"
   ]
  },
  {
   "cell_type": "code",
   "execution_count": 446,
   "id": "ae764df4-cc14-4ac3-ae98-3a05c143f522",
   "metadata": {},
   "outputs": [],
   "source": [
    "X = churn_data_set.drop([\"Exited\",\"Nationality_Spain\",\"Nationality_France\",\"Nationality_Germany\",\"Gender_Female\",\"Gender_Male\", \"Card\", \"Products\",\"Score\", \"Tenure\"], axis=1) \n",
    "y = churn_data_set.Exited"
   ]
  },
  {
   "cell_type": "code",
   "execution_count": 447,
   "id": "3360c141-bb2a-4ae1-b20b-b82db8dab7ec",
   "metadata": {},
   "outputs": [
    {
     "data": {
      "text/plain": [
       "RandomForestClassifier(class_weight='balanced', n_estimators=9, random_state=11)"
      ]
     },
     "execution_count": 447,
     "metadata": {},
     "output_type": "execute_result"
    }
   ],
   "source": [
    "X_train, X_test, y_train, y_test = train_test_split(X, y, test_size=0.30, random_state=42) \n",
    "model.fit(X_train, y_train)"
   ]
  },
  {
   "cell_type": "code",
   "execution_count": 448,
   "id": "8f475395-dd63-460e-bdfd-08768254a10a",
   "metadata": {},
   "outputs": [],
   "source": [
    "y_train_pred = tree.predict(X_train) #Prediccion en Train\n",
    "y_test_pred = tree.predict(X_test)"
   ]
  },
  {
   "cell_type": "code",
   "execution_count": 449,
   "id": "d6b83fbe-f451-45a1-aac9-2acc11a66f27",
   "metadata": {},
   "outputs": [
    {
     "name": "stdout",
     "output_type": "stream",
     "text": [
      "% de aciertos sobre el set de entrenamiento: 0.7952857142857143\n",
      "% de aciertos sobre el set de evaluación: 0.797\n"
     ]
    }
   ],
   "source": [
    "#Calculo el accuracy en Train\n",
    "train_accuracy = accuracy_score(y_train, y_train_pred)\n",
    "\n",
    "#Calculo el accuracy en Test\n",
    "test_accuracy = accuracy_score(y_test, y_test_pred)\n",
    "\n",
    "print('% de aciertos sobre el set de entrenamiento:', train_accuracy)\n",
    "print('% de aciertos sobre el set de evaluación:',test_accuracy)"
   ]
  },
  {
   "cell_type": "code",
   "execution_count": 450,
   "id": "76b9eb8c-3ed5-4358-b867-48bb66a4a4be",
   "metadata": {},
   "outputs": [
    {
     "data": {
      "image/png": "[encoded data removed]",
      "text/plain": [
       "<Figure size 360x360 with 1 Axes>"
      ]
     },
     "metadata": {
      "needs_background": "light"
     },
     "output_type": "display_data"
    }
   ],
   "source": [
    "matriz = confusion_matrix(y_test, y_test_pred)\n",
    "fig, ax = plt.subplots(figsize=(5, 5))\n",
    "ax.matshow(matriz, cmap=plt.cm.Blues, alpha=0.3)\n",
    "for i in range(matriz.shape[0]):\n",
    "    for j in range(matriz.shape[1]):\n",
    "        ax.text(x=j, y=i,s=matriz[i, j], va='center', ha='center', size='xx-large')\n",
    " \n",
    "plt.xlabel('Predicciones', fontsize=18)\n",
    "plt.ylabel('Reales', fontsize=18)\n",
    "plt.title('Matriz de Confusión', fontsize=18)\n",
    "plt.show()"
   ]
  },
  {
   "cell_type": "code",
   "execution_count": 451,
   "id": "de077d0a-55db-4b3c-8cfd-bcf328124cb7",
   "metadata": {},
   "outputs": [
    {
     "data": {
      "image/png": "[encoded data removed]",
      "text/plain": [
       "<Figure size 1800x504 with 1 Axes>"
      ]
     },
     "metadata": {
      "needs_background": "light"
     },
     "output_type": "display_data"
    }
   ],
   "source": [
    "plt.figure(figsize=(25,7))\n",
    "importances = model.feature_importances_\n",
    "columns = X.columns\n",
    "sns.barplot(x = columns, y =importances)\n",
    "plt.title('Importancia de cada Feature')\n",
    "plt.show()"
   ]
  },
  {
   "cell_type": "markdown",
   "id": "4bc6ef92-f7aa-4eeb-ae54-6bf224df6ce0",
   "metadata": {},
   "source": [
    "# Mejoras en el modelo de arboles de clasificación"
   ]
  },
  {
   "cell_type": "code",
   "execution_count": 470,
   "id": "fc734a0c-0171-425a-917b-fbf7978de105",
   "metadata": {
    "tags": []
   },
   "outputs": [],
   "source": [
    "X = churn_data_set.drop([\"Exited\",\"Nationality_Spain\",\"Gender_Female\"], axis=1) \n",
    "y = churn_data_set.Exited"
   ]
  },
  {
   "cell_type": "code",
   "execution_count": 471,
   "id": "ed37fd2d-8ef4-4bed-9d38-73a721258394",
   "metadata": {},
   "outputs": [],
   "source": [
    "X_train, X_test, y_train, y_test = train_test_split(X, y, test_size=0.30, random_state=42) "
   ]
  },
  {
   "cell_type": "code",
   "execution_count": 505,
   "id": "57728fc2-b898-43da-affd-87f8a7faf904",
   "metadata": {},
   "outputs": [],
   "source": [
    "tree = DecisionTreeClassifier(max_depth=7, random_state = 42, class_weight = 'balanced') #Creamos el modelo"
   ]
  },
  {
   "cell_type": "code",
   "execution_count": 506,
   "id": "a774b5ce-7a93-4060-a7d3-5bcc1eccf278",
   "metadata": {},
   "outputs": [
    {
     "data": {
      "text/plain": [
       "DecisionTreeClassifier(class_weight='balanced', max_depth=7, random_state=42)"
      ]
     },
     "execution_count": 506,
     "metadata": {},
     "output_type": "execute_result"
    }
   ],
   "source": [
    "tree.fit(X_train,y_train)"
   ]
  },
  {
   "cell_type": "code",
   "execution_count": 507,
   "id": "ae57f7a7-7c99-4361-9d07-86304292a384",
   "metadata": {},
   "outputs": [],
   "source": [
    "y_train_pred = tree.predict(X_train) #Prediccion en Train\n",
    "y_test_pred = tree.predict(X_test)"
   ]
  },
  {
   "cell_type": "code",
   "execution_count": 508,
   "id": "fb3a9cb1-639a-40d3-9ac3-94ba30163bc6",
   "metadata": {},
   "outputs": [
    {
     "name": "stdout",
     "output_type": "stream",
     "text": [
      "% de aciertos sobre el set de entrenamiento: 0.8307142857142857\n",
      "% de aciertos sobre el set de evaluación: 0.8096666666666666\n"
     ]
    }
   ],
   "source": [
    "#Calculo el accuracy en Train\n",
    "train_accuracy = accuracy_score(y_train, y_train_pred)\n",
    "\n",
    "#Calculo el accuracy en Test\n",
    "test_accuracy = accuracy_score(y_test, y_test_pred)\n",
    "\n",
    "print('% de aciertos sobre el set de entrenamiento:', train_accuracy)\n",
    "print('% de aciertos sobre el set de evaluación:',test_accuracy)"
   ]
  },
  {
   "cell_type": "code",
   "execution_count": 509,
   "id": "ebec4a85-2425-4759-b67b-33b202e40895",
   "metadata": {},
   "outputs": [
    {
     "data": {
      "image/png": "[encoded data removed]",
      "text/plain": [
       "<Figure size 360x360 with 1 Axes>"
      ]
     },
     "metadata": {
      "needs_background": "light"
     },
     "output_type": "display_data"
    }
   ],
   "source": [
    "matriz = confusion_matrix(y_test, y_test_pred)\n",
    "fig, ax = plt.subplots(figsize=(5, 5))\n",
    "ax.matshow(matriz, cmap=plt.cm.Blues, alpha=0.3)\n",
    "for i in range(matriz.shape[0]):\n",
    "    for j in range(matriz.shape[1]):\n",
    "        ax.text(x=j, y=i,s=matriz[i, j], va='center', ha='center', size='xx-large')\n",
    " \n",
    "plt.xlabel('Predicciones', fontsize=18)\n",
    "plt.ylabel('Reales', fontsize=18)\n",
    "plt.title('Matriz de Confusión', fontsize=18)\n",
    "plt.show()"
   ]
  },
  {
   "cell_type": "code",
   "execution_count": 510,
   "id": "67a7762e-1b99-4cc2-8b73-df78114f06fa",
   "metadata": {},
   "outputs": [
    {
     "data": {
      "image/png": "[encoded data removed]",
      "text/plain": [
       "<Figure size 1800x504 with 1 Axes>"
      ]
     },
     "metadata": {
      "needs_background": "light"
     },
     "output_type": "display_data"
    }
   ],
   "source": [
    "plt.figure(figsize=(25,7))\n",
    "importances = tree.feature_importances_\n",
    "columns = X.columns\n",
    "sns.barplot(x = columns, y =importances)\n",
    "plt.title('Importancia de cada Feature')\n",
    "plt.show()"
   ]
  },
  {
   "cell_type": "code",
   "execution_count": 478,
   "id": "dd234340-eec1-4725-8113-79c83c07fd89",
   "metadata": {},
   "outputs": [
    {
     "name": "stdout",
     "output_type": "stream",
     "text": [
      "0.71 accuracy with a standard deviation of 0.04\n"
     ]
    }
   ],
   "source": [
    "scores = cross_val_score(tree, X, y, cv=10,scoring='recall')\n",
    "print(\"%0.2f accuracy with a standard deviation of %0.2f\" % (scores.mean(), scores.std()))\n"
   ]
  },
  {
   "cell_type": "markdown",
   "id": "91733f19-90e6-4f4d-bb0b-3f6f66c7f964",
   "metadata": {},
   "source": [
    "Se pudo mejorar la cantidad de falsos negativos a costa de aumentar la cantidad de falsos positivos. Es necesario evaluar si el modelo permite permite elevar las ventas y de esa manera contrarrestar los gastos de las acciones de marketing necesarias para mantener a los clientes identificados como posibles desertores."
   ]
  },
  {
   "cell_type": "markdown",
   "id": "7f93c088-2eaa-4ffb-8dd9-0df24f3c059d",
   "metadata": {},
   "source": [
    "# Conlusiones"
   ]
  },
  {
   "cell_type": "markdown",
   "id": "2a3c0cfa-9681-4006-ac3d-11926ca1823e",
   "metadata": {},
   "source": [
    "De los algoritmos utilizados el que mejores resultados obtuvo fue el árbol de desiciones.\n",
    "\n",
    "Falta probar los algoritmos de regresión logística y de support vector machine. El algoritmo de support vector machine quizas no es el más adecuado para este conjunto de datos, pero vale la pena evaluarlo.\n"
   ]
  }
 ],
 "metadata": {
  "kernelspec": {
   "display_name": "Python 3 (ipykernel)",
   "language": "python",
   "name": "python3"
  },
  "language_info": {
   "codemirror_mode": {
    "name": "ipython",
    "version": 3
   },
   "file_extension": ".py",
   "mimetype": "text/x-python",
   "name": "python",
   "nbconvert_exporter": "python",
   "pygments_lexer": "ipython3",
   "version": "3.9.7"
  }
 },
 "nbformat": 4,
 "nbformat_minor": 5
}
